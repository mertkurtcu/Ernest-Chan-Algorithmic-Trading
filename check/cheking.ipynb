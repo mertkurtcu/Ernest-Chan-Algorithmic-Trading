{
 "cells": [
  {
   "cell_type": "code",
   "execution_count": 5,
   "metadata": {},
   "outputs": [],
   "source": [
    "import numpy as np \n",
    "import pandas as pd \n",
    "import matplotlib.pylab as plt\n",
    "import yfinance as yf\n",
    "import statsmodels.tsa.stattools as ts\n",
    "import statsmodels.api as sm"
   ]
  },
  {
   "cell_type": "code",
   "execution_count": 6,
   "metadata": {},
   "outputs": [
    {
     "name": "stdout",
     "output_type": "stream",
     "text": [
      "[*********************100%%**********************]  1 of 1 completed\n",
      "ADF Statistic: -1.7033050166796766\n",
      "p-value: 0.42941044240455095\n",
      "Critical Values:\n",
      "   1%: -3.435903883450231\n",
      "   5%: -2.863992471942117\n",
      "   10%: -2.5680757461936223\n"
     ]
    }
   ],
   "source": [
    "ticker=[\"GOOG\"]\n",
    "\n",
    "# Fetch historical data for the ticker\n",
    "data = yf.download(ticker, start='2007-07-22', end='2012-03-28',interval=\"1d\")\n",
    "\n",
    "# Select the 'Adj Close' price for the test\n",
    "close_prices = data['Adj Close'].dropna()\n",
    "\n",
    "# Perform the ADF test\n",
    "adf_result = ts.adfuller(close_prices,1)\n",
    "\n",
    "# Print the ADF test results\n",
    "print('ADF Statistic:', adf_result[0])\n",
    "print('p-value:', adf_result[1])\n",
    "print('Critical Values:')\n",
    "for key, value in adf_result[4].items():\n",
    "    print(f'   {key}: {value}')"
   ]
  },
  {
   "cell_type": "code",
   "execution_count": 7,
   "metadata": {},
   "outputs": [
    {
     "name": "stdout",
     "output_type": "stream",
     "text": [
      "[*********************100%%**********************]  1 of 1 completed\n",
      "Hurst(GBM):   0.4998139429232393\n",
      "Hurst(MR):    -0.00021068180305315658\n",
      "Hurst(TR):    0.9562128740795021\n",
      "Hurst(Ticker):  0.4699429607169498\n"
     ]
    }
   ],
   "source": [
    "goog = yf.download(ticker, start='2000-01-01', end='2024-01-01')\n",
    "\n",
    "def hurst(ts):\n",
    "    \"\"\"\n",
    "    Returns the Hurst Exponent of the time series vector ts\n",
    "\n",
    "    Parameters\n",
    "    ----------\n",
    "    ts : `numpy.array`\n",
    "        Time series upon which the Hurst Exponent will be calculated\n",
    "\n",
    "    Returns\n",
    "    -------\n",
    "    'float'\n",
    "        The Hurst Exponent from the poly fit output\n",
    "    \"\"\"\n",
    "    # Create the range of lag values\n",
    "    lags = range(2, 100)\n",
    "\n",
    "    # Calculate the array of the variances of the lagged differences\n",
    "    tau = [np.sqrt(np.std(np.subtract(ts[lag:], ts[:-lag]))) for lag in lags]\n",
    "\n",
    "    # Use a linear fit to estimate the Hurst Exponent\n",
    "    poly = np.polyfit(np.log(lags), np.log(tau), 1)\n",
    "\n",
    "    # Return the Hurst exponent from the polyfit output\n",
    "    return poly[0]*2.0\n",
    "\n",
    "# Create a Gometric Brownian Motion, Mean-Reverting and Trending Series\n",
    "gbm = np.log(np.cumsum(np.random.randn(100000))+1000)\n",
    "mr = np.log(np.random.randn(100000)+1000)\n",
    "tr = np.log(np.cumsum(np.random.randn(100000)+1)+1000)\n",
    "\n",
    "# Output the Hurst Exponent for each of the above series\n",
    "# and the price of ticker (the Adjusted Close price) for \n",
    "# the ADF test given above in the article\n",
    "print(\"Hurst(GBM):   %s\" % hurst(gbm))\n",
    "print(\"Hurst(MR):    %s\" % hurst(mr))\n",
    "print(\"Hurst(TR):    %s\" % hurst(tr))\n",
    "\n",
    "# Assuming you have run the above code to obtain 'goog'!\n",
    "print(\"Hurst(Ticker):  %s\" % hurst(goog['Adj Close'].values))"
   ]
  },
  {
   "cell_type": "code",
   "execution_count": 8,
   "metadata": {},
   "outputs": [
    {
     "name": "stdout",
     "output_type": "stream",
     "text": [
      "Half-Life of Mean Reversion: 123.85666533807606\n"
     ]
    }
   ],
   "source": [
    "def calculate_half_life(series):\n",
    "    # Calculate the lagged series\n",
    "    series_lag = series.shift(1)\n",
    "    \n",
    "    # Calculate the change in the series\n",
    "    delta_series = series - series_lag\n",
    "    \n",
    "    # Remove missing values\n",
    "    series_lag = series_lag[1:]\n",
    "    delta_series = delta_series[1:]\n",
    "    \n",
    "    # Add a constant term to the lagged series\n",
    "    series_lag_constant = sm.add_constant(series_lag)\n",
    "    \n",
    "    # Fit the AR(1) model\n",
    "    model = sm.OLS(delta_series, series_lag_constant)\n",
    "    results = model.fit()\n",
    "    \n",
    "    # Get the AR(1) coefficient\n",
    "    theta = results.params.iloc[1]  # Use iloc to avoid the warning\n",
    "    \n",
    "    # Calculate the half-life\n",
    "    half_life = -np.log(2) / theta\n",
    "    \n",
    "    return half_life\n",
    "\n",
    "# Calculate half-life\n",
    "halflife = calculate_half_life(close_prices)\n",
    "print(\"Half-Life of Mean Reversion:\", halflife)"
   ]
  },
  {
   "cell_type": "code",
   "execution_count": 9,
   "metadata": {},
   "outputs": [
    {
     "name": "stdout",
     "output_type": "stream",
     "text": [
      "Half-Life of Mean Reversion: 123.85666533807606\n"
     ]
    }
   ],
   "source": [
    "def calculate_half_life(series):\n",
    "    # Calculate the lagged series\n",
    "    series_lag = series.shift(1)\n",
    "    \n",
    "    # Calculate the change in the series\n",
    "    delta_series = series - series_lag\n",
    "    \n",
    "    # Remove missing values\n",
    "    series_lag = series_lag[1:]\n",
    "    delta_series = delta_series[1:]\n",
    "    \n",
    "    # Add a constant term to the lagged series\n",
    "    series_lag_constant = sm.add_constant(series_lag)\n",
    "    \n",
    "    # Fit the AR(1) model\n",
    "    model = sm.OLS(delta_series, series_lag_constant)\n",
    "    results = model.fit()\n",
    "    \n",
    "    # Get the AR(1) coefficient\n",
    "    theta = results.params.iloc[1]  # Use iloc to avoid the warning\n",
    "    \n",
    "    # Calculate the half-life\n",
    "    half_life = -np.log(2) / theta\n",
    "    \n",
    "    return half_life\n",
    "\n",
    "# Calculate half-life\n",
    "halflife = calculate_half_life(close_prices)\n",
    "print(\"Half-Life of Mean Reversion:\", halflife)"
   ]
  },
  {
   "cell_type": "code",
   "execution_count": 10,
   "metadata": {},
   "outputs": [
    {
     "data": {
      "text/plain": [
       "<Axes: xlabel='Date'>"
      ]
     },
     "execution_count": 10,
     "metadata": {},
     "output_type": "execute_result"
    },
    {
     "data": {
      "image/png": "[encoded data removed]",
      "text/plain": [
       "<Figure size 640x480 with 1 Axes>"
      ]
     },
     "metadata": {},
     "output_type": "display_data"
    }
   ],
   "source": [
    "# Function to calculate the moving average\n",
    "def moving_avg(close_prices, lookback):\n",
    "    return close_prices.rolling(window=lookback).mean()\n",
    "\n",
    "# Function to calculate the moving standard deviation\n",
    "def moving_std(close_prices, lookback):\n",
    "    return close_prices.rolling(window=lookback).std()\n",
    "\n",
    "# Function to lag the series by 1 (shift by 1)\n",
    "def lag(series, periods=1):\n",
    "    return series.shift(periods)\n",
    "\n",
    "# Assuming 'y' is a pandas Series and 'halflife' is defined\n",
    "lookback = round(halflife)  # Setting lookback to halflife\n",
    "\n",
    "# Calculate market value\n",
    "mktVal = -(close_prices - moving_avg(close_prices, lookback)) / moving_std(close_prices, lookback)\n",
    "\n",
    "# Calculate PnL\n",
    "pnl = lag(mktVal, 1) * (close_prices - lag(close_prices, 1)) / lag(close_prices, 1)\n",
    "pnl.dropna().plot()\n"
   ]
  }
 ],
 "metadata": {
  "kernelspec": {
   "display_name": "Python 3",
   "language": "python",
   "name": "python3"
  },
  "language_info": {
   "codemirror_mode": {
    "name": "ipython",
    "version": 3
   },
   "file_extension": ".py",
   "mimetype": "text/x-python",
   "name": "python",
   "nbconvert_exporter": "python",
   "pygments_lexer": "ipython3",
   "version": "3.12.2"
  }
 },
 "nbformat": 4,
 "nbformat_minor": 2
}
