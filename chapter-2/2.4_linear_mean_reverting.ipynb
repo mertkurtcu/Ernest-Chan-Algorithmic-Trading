{
 "cells": [
  {
   "cell_type": "markdown",
   "metadata": {},
   "source": [
    "# Linear Mean-Reversion Strategy for EWA, EWC, and IGE\n",
    "\n",
    "This part demonstrates a mean-reversion trading strategy applied to a portfolio of EWA, EWC, and IGE ETFs. We will use the Johansen cointegration test to determine the relationships between these ETFs, calculate the mean-reversion parameters, and evaluate the strategy's performance.\n",
    "\n",
    "*This linear-mean-reverting strategy is obviously not a practical strategy, at least in its simplest version. Despite such impracticalities, the importance of backtesting a mean-reverting price series with this simple linear strategy is that it shows we can extract profits with out any data-snooping bias, as the strategy has no parameters to optimize.\n"
   ]
  },
  {
   "cell_type": "markdown",
   "metadata": {},
   "source": [
    "### 1. Import Necessary Libraries"
   ]
  },
  {
   "cell_type": "code",
   "execution_count": 8,
   "metadata": {},
   "outputs": [],
   "source": [
    "import numpy as np\n",
    "import pandas as pd\n",
    "import matplotlib.pylab as plt\n",
    "import yfinance as yf\n",
    "from statsmodels.tsa.vector_ar.vecm import coint_johansen\n",
    "from statsmodels.regression.linear_model import OLS"
   ]
  },
  {
   "cell_type": "markdown",
   "metadata": {},
   "source": [
    "### 2. Download Price Series Data\n",
    "We will use yfinance to download the adjusted closing prices for the ETFs EWA, EWC, and IGE."
   ]
  },
  {
   "cell_type": "code",
   "execution_count": 9,
   "metadata": {},
   "outputs": [
    {
     "name": "stdout",
     "output_type": "stream",
     "text": [
      "[*********************100%%**********************]  1 of 1 completed\n",
      "[*********************100%%**********************]  1 of 1 completed\n",
      "[*********************100%%**********************]  1 of 1 completed\n"
     ]
    }
   ],
   "source": [
    "# Download price series data\n",
    "ewa = yf.download(\"EWA\", start=\"2006-04-26\", end=\"2012-04-09\")[\"Adj Close\"].values\n",
    "ewc = yf.download(\"EWC\", start=\"2006-04-26\", end=\"2012-04-09\")[\"Adj Close\"].values\n",
    "ige = yf.download(\"IGE\", start=\"2006-04-26\", end=\"2012-04-09\")[\"Adj Close\"].values\n",
    "\n",
    "# Combine the three price series into a matrix\n",
    "y3 = np.column_stack((ewa, ewc, ige))\n"
   ]
  },
  {
   "cell_type": "markdown",
   "metadata": {},
   "source": [
    "### 3. Perform Johansen Cointegration Test\n",
    "Apply the Johansen cointegration test to the combined price series."
   ]
  },
  {
   "cell_type": "code",
   "execution_count": 10,
   "metadata": {},
   "outputs": [
    {
     "name": "stdout",
     "output_type": "stream",
     "text": [
      "Eigenvalues: [34.63734553 16.83315513  4.38685703]\n",
      "Eigenvectors:\n",
      " [[ 1.60318014 -0.25799828  0.12242586]\n",
      " [-1.49282771 -0.70940752  0.41049404]\n",
      " [ 0.34842921  0.72618202 -0.15673886]]\n"
     ]
    }
   ],
   "source": [
    "# Johansen test function\n",
    "def johansen_test(data, p=0, k=1):\n",
    "    return coint_johansen(data, det_order=p, k_ar_diff=k)\n",
    "\n",
    "# Perform Johansen test\n",
    "results = johansen_test(y3)\n",
    "\n",
    "# Display Eigenvalues and Eigenvectors\n",
    "print(\"Eigenvalues:\", results.lr1)\n",
    "print(\"Eigenvectors:\\n\", results.evec)\n"
   ]
  },
  {
   "cell_type": "markdown",
   "metadata": {},
   "source": [
    "### 4. Calculate Portfolio Value and Mean-Reversion Parameters\n",
    "Form the portfolio using the first eigenvector from the Johansen test and calculate the mean-reversion parameters."
   ]
  },
  {
   "cell_type": "code",
   "execution_count": 11,
   "metadata": {},
   "outputs": [
    {
     "name": "stdout",
     "output_type": "stream",
     "text": [
      "Estimated Half-life of mean reversion: 21.60349477902478\n"
     ]
    }
   ],
   "source": [
    "# Form the portfolio using the first eigenvector\n",
    "eigenvector_1 = results.evec[:, 0]\n",
    "yport = np.dot(y3, eigenvector_1)\n",
    "\n",
    "# Calculate lagged yport (shift by 1)\n",
    "ylag = pd.Series(yport).shift(1)\n",
    "\n",
    "# Calculate deltaY (difference in yport)\n",
    "deltaY = pd.Series(yport) - ylag\n",
    "\n",
    "# Remove NaNs\n",
    "deltaY = deltaY.dropna()\n",
    "ylag = ylag.dropna()\n",
    "\n",
    "# Ensure both deltaY and ylag have the same length\n",
    "assert len(deltaY) == len(ylag), \"deltaY and ylag must be of the same length\"\n",
    "\n",
    "# OLS regression: deltaY ~ ylag + constant\n",
    "X = np.column_stack([ylag, np.ones(len(ylag))])  # Add constant term\n",
    "model = OLS(deltaY, X).fit()\n",
    "\n",
    "# Half-life of mean reversion\n",
    "halflife = -np.log(2) / model.params.iloc[0]\n",
    "print(\"Estimated Half-life of mean reversion:\", halflife)\n"
   ]
  },
  {
   "cell_type": "markdown",
   "metadata": {},
   "source": [
    "### 5. Apply the Mean-Reversion Strategy\n",
    "Calculate the number of units to trade, the positions in each ETF, and the daily P&L."
   ]
  },
  {
   "cell_type": "code",
   "execution_count": 12,
   "metadata": {},
   "outputs": [
    {
     "name": "stdout",
     "output_type": "stream",
     "text": [
      "Cumulative Returns:\n",
      " 0            NaN\n",
      "1            NaN\n",
      "2            NaN\n",
      "3            NaN\n",
      "4            NaN\n",
      "          ...   \n",
      "1494    2.003217\n",
      "1495    2.012679\n",
      "1496    2.014356\n",
      "1497    2.018574\n",
      "1498    2.010896\n",
      "Length: 1499, dtype: float64\n"
     ]
    }
   ],
   "source": [
    "# Placeholder functions for moving average and moving standard deviation\n",
    "def movingAvg(series, window):\n",
    "    return series.rolling(window=window).mean()\n",
    "\n",
    "def movingStd(series, window):\n",
    "    return series.rolling(window=window).std()\n",
    "\n",
    "# Set lookback period to the calculated half-life\n",
    "lookback = round(halflife)\n",
    "\n",
    "# Calculate the number of units of the unit portfolio to trade\n",
    "numUnits = -(yport - movingAvg(pd.Series(yport), lookback)) / movingStd(pd.Series(yport), lookback)\n",
    "\n",
    "# Calculate positions in each ETF\n",
    "positions = np.dot(np.array(numUnits).reshape(-1, 1), eigenvector_1.reshape(1, -1)) * y3\n",
    "\n",
    "# Calculate daily P&L of the strategy\n",
    "def lag(series, periods=1):\n",
    "    \"\"\"Function to shift the series by a certain number of periods.\"\"\"\n",
    "    return series.shift(periods=periods)\n",
    "\n",
    "# Calculate P&L and returns\n",
    "pnl = np.sum(lag(pd.DataFrame(positions), 1) * (pd.DataFrame(y3) - lag(pd.DataFrame(y3), 1)) / lag(pd.DataFrame(y3), 1), axis=1)\n",
    "ret = pnl / np.sum(np.abs(lag(pd.DataFrame(positions), 1)), axis=1)\n",
    "\n",
    "# Cumulative returns\n",
    "cumulative_returns = (1 + ret).cumprod()\n",
    "\n",
    "# Display cumulative returns\n",
    "print(\"Cumulative Returns:\\n\", cumulative_returns)\n"
   ]
  },
  {
   "cell_type": "markdown",
   "metadata": {},
   "source": [
    "### 6. Evaluate Strategy Performance\n",
    "Calculate and display the annualized return (APR) and Sharpe ratio."
   ]
  },
  {
   "cell_type": "code",
   "execution_count": 13,
   "metadata": {},
   "outputs": [
    {
     "name": "stdout",
     "output_type": "stream",
     "text": [
      "Annualized Return (APR): 12.46%\n",
      "Sharpe Ratio: 0.10\n"
     ]
    }
   ],
   "source": [
    "# Function to calculate Sharpe ratio\n",
    "def calculate_sharpe_ratio(returns, risk_free_rate=0):\n",
    "    \"\"\"Calculates the Sharpe Ratio.\"\"\"\n",
    "    mean_return = np.mean(returns)\n",
    "    std_return = np.std(returns)\n",
    "    sharpe_ratio = (mean_return - risk_free_rate) / std_return\n",
    "    return sharpe_ratio\n",
    "\n",
    "# Calculate APR (Annualized Return)\n",
    "days_per_year = 252\n",
    "annualized_return = (np.prod(1 + ret) ** (days_per_year / len(ret)) - 1) * 100\n",
    "\n",
    "# Calculate Sharpe Ratio\n",
    "sharpe_ratio = calculate_sharpe_ratio(ret)\n",
    "\n",
    "# Display APR and Sharpe Ratio\n",
    "print(f\"Annualized Return (APR): {annualized_return:.2f}%\")\n",
    "print(f\"Sharpe Ratio: {sharpe_ratio:.2f}\")\n"
   ]
  },
  {
   "cell_type": "markdown",
   "metadata": {},
   "source": [
    "### 7. Plot Cumulative Returns\n",
    "Visualize the cumulative returns of the mean-reversion strategy."
   ]
  },
  {
   "cell_type": "code",
   "execution_count": 14,
   "metadata": {},
   "outputs": [
    {
     "data": {
      "image/png": "[encoded data removed]",
      "text/plain": [
       "<Figure size 640x480 with 1 Axes>"
      ]
     },
     "metadata": {},
     "output_type": "display_data"
    }
   ],
   "source": [
    "# Plot cumulative returns\n",
    "plt.plot(cumulative_returns, label='Cumulative Returns')\n",
    "plt.title('Cumulative Returns of Mean Reversion Strategy')\n",
    "plt.xlabel('Time')\n",
    "plt.ylabel('Cumulative Returns')\n",
    "plt.legend()\n",
    "plt.show()\n"
   ]
  }
 ],
 "metadata": {
  "kernelspec": {
   "display_name": "Python 3",
   "language": "python",
   "name": "python3"
  },
  "language_info": {
   "codemirror_mode": {
    "name": "ipython",
    "version": 3
   },
   "file_extension": ".py",
   "mimetype": "text/x-python",
   "name": "python",
   "nbconvert_exporter": "python",
   "pygments_lexer": "ipython3",
   "version": "3.12.2"
  }
 },
 "nbformat": 4,
 "nbformat_minor": 2
}
